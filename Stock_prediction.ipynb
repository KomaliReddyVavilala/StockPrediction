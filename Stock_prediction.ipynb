{
  "nbformat": 4,
  "nbformat_minor": 0,
  "metadata": {
    "colab": {
      "provenance": [],
      "authorship_tag": "ABX9TyN2F5l48zHu5cCeMeSAXM4d",
      "include_colab_link": true
    },
    "kernelspec": {
      "name": "python3",
      "display_name": "Python 3"
    },
    "language_info": {
      "name": "python"
    }
  },
  "cells": [
    {
      "cell_type": "markdown",
      "metadata": {
        "id": "view-in-github",
        "colab_type": "text"
      },
      "source": [
        "<a href=\"https://colab.research.google.com/github/KomaliReddyVavilala/StockPrediction/blob/main/Stock_prediction.ipynb\" target=\"_parent\"><img src=\"https://colab.research.google.com/assets/colab-badge.svg\" alt=\"Open In Colab\"/></a>"
      ]
    },
    {
      "cell_type": "code",
      "execution_count": null,
      "metadata": {
        "id": "a6-9cy9pkqCt"
      },
      "outputs": [],
      "source": [
        "import numpy as np\n",
        "import pandas as pd\n",
        "import matplotlib.pyplot as plt\n",
        "from sklearn.preprocessing import MinMaxScaler\n",
        "from keras.models import Sequential\n",
        "from keras.layers import Dense,LSTM,Dropout"
      ]
    },
    {
      "cell_type": "code",
      "source": [
        "from google.colab import files\n",
        "uploaded = files.upload()"
      ],
      "metadata": {
        "colab": {
          "base_uri": "https://localhost:8080/",
          "height": 73
        },
        "id": "eu2ta8aKkuC4",
        "outputId": "eb4fa121-8eb0-420e-c2ad-d3afc7d7c783"
      },
      "execution_count": null,
      "outputs": [
        {
          "output_type": "display_data",
          "data": {
            "text/plain": [
              "<IPython.core.display.HTML object>"
            ],
            "text/html": [
              "\n",
              "     <input type=\"file\" id=\"files-c3b51f38-f0af-4dd2-be9e-dab6073d8514\" name=\"files[]\" multiple disabled\n",
              "        style=\"border:none\" />\n",
              "     <output id=\"result-c3b51f38-f0af-4dd2-be9e-dab6073d8514\">\n",
              "      Upload widget is only available when the cell has been executed in the\n",
              "      current browser session. Please rerun this cell to enable.\n",
              "      </output>\n",
              "      <script>// Copyright 2017 Google LLC\n",
              "//\n",
              "// Licensed under the Apache License, Version 2.0 (the \"License\");\n",
              "// you may not use this file except in compliance with the License.\n",
              "// You may obtain a copy of the License at\n",
              "//\n",
              "//      http://www.apache.org/licenses/LICENSE-2.0\n",
              "//\n",
              "// Unless required by applicable law or agreed to in writing, software\n",
              "// distributed under the License is distributed on an \"AS IS\" BASIS,\n",
              "// WITHOUT WARRANTIES OR CONDITIONS OF ANY KIND, either express or implied.\n",
              "// See the License for the specific language governing permissions and\n",
              "// limitations under the License.\n",
              "\n",
              "/**\n",
              " * @fileoverview Helpers for google.colab Python module.\n",
              " */\n",
              "(function(scope) {\n",
              "function span(text, styleAttributes = {}) {\n",
              "  const element = document.createElement('span');\n",
              "  element.textContent = text;\n",
              "  for (const key of Object.keys(styleAttributes)) {\n",
              "    element.style[key] = styleAttributes[key];\n",
              "  }\n",
              "  return element;\n",
              "}\n",
              "\n",
              "// Max number of bytes which will be uploaded at a time.\n",
              "const MAX_PAYLOAD_SIZE = 100 * 1024;\n",
              "\n",
              "function _uploadFiles(inputId, outputId) {\n",
              "  const steps = uploadFilesStep(inputId, outputId);\n",
              "  const outputElement = document.getElementById(outputId);\n",
              "  // Cache steps on the outputElement to make it available for the next call\n",
              "  // to uploadFilesContinue from Python.\n",
              "  outputElement.steps = steps;\n",
              "\n",
              "  return _uploadFilesContinue(outputId);\n",
              "}\n",
              "\n",
              "// This is roughly an async generator (not supported in the browser yet),\n",
              "// where there are multiple asynchronous steps and the Python side is going\n",
              "// to poll for completion of each step.\n",
              "// This uses a Promise to block the python side on completion of each step,\n",
              "// then passes the result of the previous step as the input to the next step.\n",
              "function _uploadFilesContinue(outputId) {\n",
              "  const outputElement = document.getElementById(outputId);\n",
              "  const steps = outputElement.steps;\n",
              "\n",
              "  const next = steps.next(outputElement.lastPromiseValue);\n",
              "  return Promise.resolve(next.value.promise).then((value) => {\n",
              "    // Cache the last promise value to make it available to the next\n",
              "    // step of the generator.\n",
              "    outputElement.lastPromiseValue = value;\n",
              "    return next.value.response;\n",
              "  });\n",
              "}\n",
              "\n",
              "/**\n",
              " * Generator function which is called between each async step of the upload\n",
              " * process.\n",
              " * @param {string} inputId Element ID of the input file picker element.\n",
              " * @param {string} outputId Element ID of the output display.\n",
              " * @return {!Iterable<!Object>} Iterable of next steps.\n",
              " */\n",
              "function* uploadFilesStep(inputId, outputId) {\n",
              "  const inputElement = document.getElementById(inputId);\n",
              "  inputElement.disabled = false;\n",
              "\n",
              "  const outputElement = document.getElementById(outputId);\n",
              "  outputElement.innerHTML = '';\n",
              "\n",
              "  const pickedPromise = new Promise((resolve) => {\n",
              "    inputElement.addEventListener('change', (e) => {\n",
              "      resolve(e.target.files);\n",
              "    });\n",
              "  });\n",
              "\n",
              "  const cancel = document.createElement('button');\n",
              "  inputElement.parentElement.appendChild(cancel);\n",
              "  cancel.textContent = 'Cancel upload';\n",
              "  const cancelPromise = new Promise((resolve) => {\n",
              "    cancel.onclick = () => {\n",
              "      resolve(null);\n",
              "    };\n",
              "  });\n",
              "\n",
              "  // Wait for the user to pick the files.\n",
              "  const files = yield {\n",
              "    promise: Promise.race([pickedPromise, cancelPromise]),\n",
              "    response: {\n",
              "      action: 'starting',\n",
              "    }\n",
              "  };\n",
              "\n",
              "  cancel.remove();\n",
              "\n",
              "  // Disable the input element since further picks are not allowed.\n",
              "  inputElement.disabled = true;\n",
              "\n",
              "  if (!files) {\n",
              "    return {\n",
              "      response: {\n",
              "        action: 'complete',\n",
              "      }\n",
              "    };\n",
              "  }\n",
              "\n",
              "  for (const file of files) {\n",
              "    const li = document.createElement('li');\n",
              "    li.append(span(file.name, {fontWeight: 'bold'}));\n",
              "    li.append(span(\n",
              "        `(${file.type || 'n/a'}) - ${file.size} bytes, ` +\n",
              "        `last modified: ${\n",
              "            file.lastModifiedDate ? file.lastModifiedDate.toLocaleDateString() :\n",
              "                                    'n/a'} - `));\n",
              "    const percent = span('0% done');\n",
              "    li.appendChild(percent);\n",
              "\n",
              "    outputElement.appendChild(li);\n",
              "\n",
              "    const fileDataPromise = new Promise((resolve) => {\n",
              "      const reader = new FileReader();\n",
              "      reader.onload = (e) => {\n",
              "        resolve(e.target.result);\n",
              "      };\n",
              "      reader.readAsArrayBuffer(file);\n",
              "    });\n",
              "    // Wait for the data to be ready.\n",
              "    let fileData = yield {\n",
              "      promise: fileDataPromise,\n",
              "      response: {\n",
              "        action: 'continue',\n",
              "      }\n",
              "    };\n",
              "\n",
              "    // Use a chunked sending to avoid message size limits. See b/62115660.\n",
              "    let position = 0;\n",
              "    do {\n",
              "      const length = Math.min(fileData.byteLength - position, MAX_PAYLOAD_SIZE);\n",
              "      const chunk = new Uint8Array(fileData, position, length);\n",
              "      position += length;\n",
              "\n",
              "      const base64 = btoa(String.fromCharCode.apply(null, chunk));\n",
              "      yield {\n",
              "        response: {\n",
              "          action: 'append',\n",
              "          file: file.name,\n",
              "          data: base64,\n",
              "        },\n",
              "      };\n",
              "\n",
              "      let percentDone = fileData.byteLength === 0 ?\n",
              "          100 :\n",
              "          Math.round((position / fileData.byteLength) * 100);\n",
              "      percent.textContent = `${percentDone}% done`;\n",
              "\n",
              "    } while (position < fileData.byteLength);\n",
              "  }\n",
              "\n",
              "  // All done.\n",
              "  yield {\n",
              "    response: {\n",
              "      action: 'complete',\n",
              "    }\n",
              "  };\n",
              "}\n",
              "\n",
              "scope.google = scope.google || {};\n",
              "scope.google.colab = scope.google.colab || {};\n",
              "scope.google.colab._files = {\n",
              "  _uploadFiles,\n",
              "  _uploadFilesContinue,\n",
              "};\n",
              "})(self);\n",
              "</script> "
            ]
          },
          "metadata": {}
        },
        {
          "output_type": "stream",
          "name": "stdout",
          "text": [
            "Saving stock_data.csv to stock_data.csv\n"
          ]
        }
      ]
    },
    {
      "cell_type": "code",
      "source": [
        "data = pd.read_csv('stock_data.csv')\n",
        "data.head()"
      ],
      "metadata": {
        "colab": {
          "base_uri": "https://localhost:8080/",
          "height": 206
        },
        "id": "0FVlzW8Flydn",
        "outputId": "c32e1322-ba00-43e9-9eae-d963d3a48cd7"
      },
      "execution_count": null,
      "outputs": [
        {
          "output_type": "execute_result",
          "data": {
            "text/plain": [
              "   Unnamed: 0     Stock_1     Stock_2    Stock_3     Stock_4     Stock_5\n",
              "0  2020-01-01  101.764052  100.160928  99.494642   99.909756  101.761266\n",
              "1  2020-01-02  102.171269   99.969968  98.682973  100.640755  102.528643\n",
              "2  2020-01-03  103.171258   99.575237  98.182139  100.574847  101.887811\n",
              "3  2020-01-04  105.483215   99.308641  97.149381  100.925017  101.490049\n",
              "4  2020-01-05  107.453175   98.188428  99.575396  101.594411  101.604283"
            ],
            "text/html": [
              "\n",
              "  <div id=\"df-67b239df-af6a-4f61-84bf-39c3516e87b7\" class=\"colab-df-container\">\n",
              "    <div>\n",
              "<style scoped>\n",
              "    .dataframe tbody tr th:only-of-type {\n",
              "        vertical-align: middle;\n",
              "    }\n",
              "\n",
              "    .dataframe tbody tr th {\n",
              "        vertical-align: top;\n",
              "    }\n",
              "\n",
              "    .dataframe thead th {\n",
              "        text-align: right;\n",
              "    }\n",
              "</style>\n",
              "<table border=\"1\" class=\"dataframe\">\n",
              "  <thead>\n",
              "    <tr style=\"text-align: right;\">\n",
              "      <th></th>\n",
              "      <th>Unnamed: 0</th>\n",
              "      <th>Stock_1</th>\n",
              "      <th>Stock_2</th>\n",
              "      <th>Stock_3</th>\n",
              "      <th>Stock_4</th>\n",
              "      <th>Stock_5</th>\n",
              "    </tr>\n",
              "  </thead>\n",
              "  <tbody>\n",
              "    <tr>\n",
              "      <th>0</th>\n",
              "      <td>2020-01-01</td>\n",
              "      <td>101.764052</td>\n",
              "      <td>100.160928</td>\n",
              "      <td>99.494642</td>\n",
              "      <td>99.909756</td>\n",
              "      <td>101.761266</td>\n",
              "    </tr>\n",
              "    <tr>\n",
              "      <th>1</th>\n",
              "      <td>2020-01-02</td>\n",
              "      <td>102.171269</td>\n",
              "      <td>99.969968</td>\n",
              "      <td>98.682973</td>\n",
              "      <td>100.640755</td>\n",
              "      <td>102.528643</td>\n",
              "    </tr>\n",
              "    <tr>\n",
              "      <th>2</th>\n",
              "      <td>2020-01-03</td>\n",
              "      <td>103.171258</td>\n",
              "      <td>99.575237</td>\n",
              "      <td>98.182139</td>\n",
              "      <td>100.574847</td>\n",
              "      <td>101.887811</td>\n",
              "    </tr>\n",
              "    <tr>\n",
              "      <th>3</th>\n",
              "      <td>2020-01-04</td>\n",
              "      <td>105.483215</td>\n",
              "      <td>99.308641</td>\n",
              "      <td>97.149381</td>\n",
              "      <td>100.925017</td>\n",
              "      <td>101.490049</td>\n",
              "    </tr>\n",
              "    <tr>\n",
              "      <th>4</th>\n",
              "      <td>2020-01-05</td>\n",
              "      <td>107.453175</td>\n",
              "      <td>98.188428</td>\n",
              "      <td>99.575396</td>\n",
              "      <td>101.594411</td>\n",
              "      <td>101.604283</td>\n",
              "    </tr>\n",
              "  </tbody>\n",
              "</table>\n",
              "</div>\n",
              "    <div class=\"colab-df-buttons\">\n",
              "\n",
              "  <div class=\"colab-df-container\">\n",
              "    <button class=\"colab-df-convert\" onclick=\"convertToInteractive('df-67b239df-af6a-4f61-84bf-39c3516e87b7')\"\n",
              "            title=\"Convert this dataframe to an interactive table.\"\n",
              "            style=\"display:none;\">\n",
              "\n",
              "  <svg xmlns=\"http://www.w3.org/2000/svg\" height=\"24px\" viewBox=\"0 -960 960 960\">\n",
              "    <path d=\"M120-120v-720h720v720H120Zm60-500h600v-160H180v160Zm220 220h160v-160H400v160Zm0 220h160v-160H400v160ZM180-400h160v-160H180v160Zm440 0h160v-160H620v160ZM180-180h160v-160H180v160Zm440 0h160v-160H620v160Z\"/>\n",
              "  </svg>\n",
              "    </button>\n",
              "\n",
              "  <style>\n",
              "    .colab-df-container {\n",
              "      display:flex;\n",
              "      gap: 12px;\n",
              "    }\n",
              "\n",
              "    .colab-df-convert {\n",
              "      background-color: #E8F0FE;\n",
              "      border: none;\n",
              "      border-radius: 50%;\n",
              "      cursor: pointer;\n",
              "      display: none;\n",
              "      fill: #1967D2;\n",
              "      height: 32px;\n",
              "      padding: 0 0 0 0;\n",
              "      width: 32px;\n",
              "    }\n",
              "\n",
              "    .colab-df-convert:hover {\n",
              "      background-color: #E2EBFA;\n",
              "      box-shadow: 0px 1px 2px rgba(60, 64, 67, 0.3), 0px 1px 3px 1px rgba(60, 64, 67, 0.15);\n",
              "      fill: #174EA6;\n",
              "    }\n",
              "\n",
              "    .colab-df-buttons div {\n",
              "      margin-bottom: 4px;\n",
              "    }\n",
              "\n",
              "    [theme=dark] .colab-df-convert {\n",
              "      background-color: #3B4455;\n",
              "      fill: #D2E3FC;\n",
              "    }\n",
              "\n",
              "    [theme=dark] .colab-df-convert:hover {\n",
              "      background-color: #434B5C;\n",
              "      box-shadow: 0px 1px 3px 1px rgba(0, 0, 0, 0.15);\n",
              "      filter: drop-shadow(0px 1px 2px rgba(0, 0, 0, 0.3));\n",
              "      fill: #FFFFFF;\n",
              "    }\n",
              "  </style>\n",
              "\n",
              "    <script>\n",
              "      const buttonEl =\n",
              "        document.querySelector('#df-67b239df-af6a-4f61-84bf-39c3516e87b7 button.colab-df-convert');\n",
              "      buttonEl.style.display =\n",
              "        google.colab.kernel.accessAllowed ? 'block' : 'none';\n",
              "\n",
              "      async function convertToInteractive(key) {\n",
              "        const element = document.querySelector('#df-67b239df-af6a-4f61-84bf-39c3516e87b7');\n",
              "        const dataTable =\n",
              "          await google.colab.kernel.invokeFunction('convertToInteractive',\n",
              "                                                    [key], {});\n",
              "        if (!dataTable) return;\n",
              "\n",
              "        const docLinkHtml = 'Like what you see? Visit the ' +\n",
              "          '<a target=\"_blank\" href=https://colab.research.google.com/notebooks/data_table.ipynb>data table notebook</a>'\n",
              "          + ' to learn more about interactive tables.';\n",
              "        element.innerHTML = '';\n",
              "        dataTable['output_type'] = 'display_data';\n",
              "        await google.colab.output.renderOutput(dataTable, element);\n",
              "        const docLink = document.createElement('div');\n",
              "        docLink.innerHTML = docLinkHtml;\n",
              "        element.appendChild(docLink);\n",
              "      }\n",
              "    </script>\n",
              "  </div>\n",
              "\n",
              "\n",
              "<div id=\"df-e863f5a5-588c-42f7-b071-9084a4a1c2d2\">\n",
              "  <button class=\"colab-df-quickchart\" onclick=\"quickchart('df-e863f5a5-588c-42f7-b071-9084a4a1c2d2')\"\n",
              "            title=\"Suggest charts\"\n",
              "            style=\"display:none;\">\n",
              "\n",
              "<svg xmlns=\"http://www.w3.org/2000/svg\" height=\"24px\"viewBox=\"0 0 24 24\"\n",
              "     width=\"24px\">\n",
              "    <g>\n",
              "        <path d=\"M19 3H5c-1.1 0-2 .9-2 2v14c0 1.1.9 2 2 2h14c1.1 0 2-.9 2-2V5c0-1.1-.9-2-2-2zM9 17H7v-7h2v7zm4 0h-2V7h2v10zm4 0h-2v-4h2v4z\"/>\n",
              "    </g>\n",
              "</svg>\n",
              "  </button>\n",
              "\n",
              "<style>\n",
              "  .colab-df-quickchart {\n",
              "      --bg-color: #E8F0FE;\n",
              "      --fill-color: #1967D2;\n",
              "      --hover-bg-color: #E2EBFA;\n",
              "      --hover-fill-color: #174EA6;\n",
              "      --disabled-fill-color: #AAA;\n",
              "      --disabled-bg-color: #DDD;\n",
              "  }\n",
              "\n",
              "  [theme=dark] .colab-df-quickchart {\n",
              "      --bg-color: #3B4455;\n",
              "      --fill-color: #D2E3FC;\n",
              "      --hover-bg-color: #434B5C;\n",
              "      --hover-fill-color: #FFFFFF;\n",
              "      --disabled-bg-color: #3B4455;\n",
              "      --disabled-fill-color: #666;\n",
              "  }\n",
              "\n",
              "  .colab-df-quickchart {\n",
              "    background-color: var(--bg-color);\n",
              "    border: none;\n",
              "    border-radius: 50%;\n",
              "    cursor: pointer;\n",
              "    display: none;\n",
              "    fill: var(--fill-color);\n",
              "    height: 32px;\n",
              "    padding: 0;\n",
              "    width: 32px;\n",
              "  }\n",
              "\n",
              "  .colab-df-quickchart:hover {\n",
              "    background-color: var(--hover-bg-color);\n",
              "    box-shadow: 0 1px 2px rgba(60, 64, 67, 0.3), 0 1px 3px 1px rgba(60, 64, 67, 0.15);\n",
              "    fill: var(--button-hover-fill-color);\n",
              "  }\n",
              "\n",
              "  .colab-df-quickchart-complete:disabled,\n",
              "  .colab-df-quickchart-complete:disabled:hover {\n",
              "    background-color: var(--disabled-bg-color);\n",
              "    fill: var(--disabled-fill-color);\n",
              "    box-shadow: none;\n",
              "  }\n",
              "\n",
              "  .colab-df-spinner {\n",
              "    border: 2px solid var(--fill-color);\n",
              "    border-color: transparent;\n",
              "    border-bottom-color: var(--fill-color);\n",
              "    animation:\n",
              "      spin 1s steps(1) infinite;\n",
              "  }\n",
              "\n",
              "  @keyframes spin {\n",
              "    0% {\n",
              "      border-color: transparent;\n",
              "      border-bottom-color: var(--fill-color);\n",
              "      border-left-color: var(--fill-color);\n",
              "    }\n",
              "    20% {\n",
              "      border-color: transparent;\n",
              "      border-left-color: var(--fill-color);\n",
              "      border-top-color: var(--fill-color);\n",
              "    }\n",
              "    30% {\n",
              "      border-color: transparent;\n",
              "      border-left-color: var(--fill-color);\n",
              "      border-top-color: var(--fill-color);\n",
              "      border-right-color: var(--fill-color);\n",
              "    }\n",
              "    40% {\n",
              "      border-color: transparent;\n",
              "      border-right-color: var(--fill-color);\n",
              "      border-top-color: var(--fill-color);\n",
              "    }\n",
              "    60% {\n",
              "      border-color: transparent;\n",
              "      border-right-color: var(--fill-color);\n",
              "    }\n",
              "    80% {\n",
              "      border-color: transparent;\n",
              "      border-right-color: var(--fill-color);\n",
              "      border-bottom-color: var(--fill-color);\n",
              "    }\n",
              "    90% {\n",
              "      border-color: transparent;\n",
              "      border-bottom-color: var(--fill-color);\n",
              "    }\n",
              "  }\n",
              "</style>\n",
              "\n",
              "  <script>\n",
              "    async function quickchart(key) {\n",
              "      const quickchartButtonEl =\n",
              "        document.querySelector('#' + key + ' button');\n",
              "      quickchartButtonEl.disabled = true;  // To prevent multiple clicks.\n",
              "      quickchartButtonEl.classList.add('colab-df-spinner');\n",
              "      try {\n",
              "        const charts = await google.colab.kernel.invokeFunction(\n",
              "            'suggestCharts', [key], {});\n",
              "      } catch (error) {\n",
              "        console.error('Error during call to suggestCharts:', error);\n",
              "      }\n",
              "      quickchartButtonEl.classList.remove('colab-df-spinner');\n",
              "      quickchartButtonEl.classList.add('colab-df-quickchart-complete');\n",
              "    }\n",
              "    (() => {\n",
              "      let quickchartButtonEl =\n",
              "        document.querySelector('#df-e863f5a5-588c-42f7-b071-9084a4a1c2d2 button');\n",
              "      quickchartButtonEl.style.display =\n",
              "        google.colab.kernel.accessAllowed ? 'block' : 'none';\n",
              "    })();\n",
              "  </script>\n",
              "</div>\n",
              "\n",
              "    </div>\n",
              "  </div>\n"
            ],
            "application/vnd.google.colaboratory.intrinsic+json": {
              "type": "dataframe",
              "variable_name": "data",
              "summary": "{\n  \"name\": \"data\",\n  \"rows\": 365,\n  \"fields\": [\n    {\n      \"column\": \"Unnamed: 0\",\n      \"properties\": {\n        \"dtype\": \"object\",\n        \"num_unique_values\": 365,\n        \"samples\": [\n          \"2020-07-12\",\n          \"2020-02-03\",\n          \"2020-01-16\"\n        ],\n        \"semantic_type\": \"\",\n        \"description\": \"\"\n      }\n    },\n    {\n      \"column\": \"Stock_1\",\n      \"properties\": {\n        \"dtype\": \"number\",\n        \"std\": 7.3982957837453185,\n        \"min\": 91.47444158559298,\n        \"max\": 121.90177305475322,\n        \"num_unique_values\": 365,\n        \"samples\": [\n          108.03541258911234,\n          111.31738955924396,\n          111.12719873528812\n        ],\n        \"semantic_type\": \"\",\n        \"description\": \"\"\n      }\n    },\n    {\n      \"column\": \"Stock_2\",\n      \"properties\": {\n        \"dtype\": \"number\",\n        \"std\": 11.43521186437681,\n        \"min\": 62.414219095863146,\n        \"max\": 100.16092816829824,\n        \"num_unique_values\": 365,\n        \"samples\": [\n          81.69434087835128,\n          92.4198125452635,\n          96.65609595864764\n        ],\n        \"semantic_type\": \"\",\n        \"description\": \"\"\n      }\n    },\n    {\n      \"column\": \"Stock_3\",\n      \"properties\": {\n        \"dtype\": \"number\",\n        \"std\": 6.51921281050255,\n        \"min\": 81.11143377746085,\n        \"max\": 107.58837265695388,\n        \"num_unique_values\": 365,\n        \"samples\": [\n          83.40583756204063,\n          94.86634401969836,\n          94.68329324817331\n        ],\n        \"semantic_type\": \"\",\n        \"description\": \"\"\n      }\n    },\n    {\n      \"column\": \"Stock_4\",\n      \"properties\": {\n        \"dtype\": \"number\",\n        \"std\": 6.778527259144659,\n        \"min\": 99.90975615033425,\n        \"max\": 129.91138592139,\n        \"num_unique_values\": 365,\n        \"samples\": [\n          121.82561160850042,\n          111.5649031389762,\n          102.85972771227632\n        ],\n        \"semantic_type\": \"\",\n        \"description\": \"\"\n      }\n    },\n    {\n      \"column\": \"Stock_5\",\n      \"properties\": {\n        \"dtype\": \"number\",\n        \"std\": 3.7609683461389376,\n        \"min\": 99.83330874429174,\n        \"max\": 116.24380326160816,\n        \"num_unique_values\": 365,\n        \"samples\": [\n          108.00261320396548,\n          105.34406026822452,\n          102.333265596325\n        ],\n        \"semantic_type\": \"\",\n        \"description\": \"\"\n      }\n    }\n  ]\n}"
            }
          },
          "metadata": {},
          "execution_count": 3
        }
      ]
    },
    {
      "cell_type": "code",
      "source": [
        "data.info()"
      ],
      "metadata": {
        "colab": {
          "base_uri": "https://localhost:8080/"
        },
        "id": "mDRpXR4Rlzqq",
        "outputId": "0cdef673-204f-4834-8716-7083d3732d64"
      },
      "execution_count": null,
      "outputs": [
        {
          "output_type": "stream",
          "name": "stdout",
          "text": [
            "<class 'pandas.core.frame.DataFrame'>\n",
            "RangeIndex: 365 entries, 0 to 364\n",
            "Data columns (total 6 columns):\n",
            " #   Column      Non-Null Count  Dtype  \n",
            "---  ------      --------------  -----  \n",
            " 0   Unnamed: 0  365 non-null    object \n",
            " 1   Stock_1     365 non-null    float64\n",
            " 2   Stock_2     365 non-null    float64\n",
            " 3   Stock_3     365 non-null    float64\n",
            " 4   Stock_4     365 non-null    float64\n",
            " 5   Stock_5     365 non-null    float64\n",
            "dtypes: float64(5), object(1)\n",
            "memory usage: 17.2+ KB\n"
          ]
        }
      ]
    },
    {
      "cell_type": "code",
      "source": [
        "print(data.columns)"
      ],
      "metadata": {
        "colab": {
          "base_uri": "https://localhost:8080/"
        },
        "id": "TGQhP55LmT4R",
        "outputId": "d5c28e70-2a39-4b23-d4fd-34e978ca2597"
      },
      "execution_count": null,
      "outputs": [
        {
          "output_type": "stream",
          "name": "stdout",
          "text": [
            "Index(['Unnamed: 0', 'Stock_1', 'Stock_2', 'Stock_3', 'Stock_4', 'Stock_5'], dtype='object')\n"
          ]
        }
      ]
    },
    {
      "cell_type": "code",
      "source": [
        "data.columns = data.columns.str.strip()"
      ],
      "metadata": {
        "id": "1M8D75upm5XW"
      },
      "execution_count": null,
      "outputs": []
    },
    {
      "cell_type": "code",
      "source": [
        "data[\"Stock_1\"]=pd.to_numeric(data.Stock_1,errors='coerce')\n",
        "data = data.dropna()\n",
        "trainData = data.iloc[:,4:5].values"
      ],
      "metadata": {
        "id": "jSJ-n4i4nKZ3"
      },
      "execution_count": null,
      "outputs": []
    },
    {
      "cell_type": "code",
      "source": [
        "data.info()"
      ],
      "metadata": {
        "colab": {
          "base_uri": "https://localhost:8080/"
        },
        "id": "-zeZojNeoLLM",
        "outputId": "a6dd7783-fe5f-4026-f658-4e97f3ace8e5"
      },
      "execution_count": null,
      "outputs": [
        {
          "output_type": "stream",
          "name": "stdout",
          "text": [
            "<class 'pandas.core.frame.DataFrame'>\n",
            "RangeIndex: 365 entries, 0 to 364\n",
            "Data columns (total 6 columns):\n",
            " #   Column      Non-Null Count  Dtype  \n",
            "---  ------      --------------  -----  \n",
            " 0   Unnamed: 0  365 non-null    object \n",
            " 1   Stock_1     365 non-null    float64\n",
            " 2   Stock_2     365 non-null    float64\n",
            " 3   Stock_3     365 non-null    float64\n",
            " 4   Stock_4     365 non-null    float64\n",
            " 5   Stock_5     365 non-null    float64\n",
            "dtypes: float64(5), object(1)\n",
            "memory usage: 17.2+ KB\n"
          ]
        }
      ]
    },
    {
      "cell_type": "code",
      "source": [
        "sc = MinMaxScaler(feature_range=(0,1))\n",
        "trainData = sc.fit_transform(trainData)\n",
        "trainData.shape"
      ],
      "metadata": {
        "colab": {
          "base_uri": "https://localhost:8080/"
        },
        "id": "ih-fSTSHoOkO",
        "outputId": "02d53d8c-9646-43d9-ef6e-9350e9841ee4"
      },
      "execution_count": null,
      "outputs": [
        {
          "output_type": "execute_result",
          "data": {
            "text/plain": [
              "(365, 1)"
            ]
          },
          "metadata": {},
          "execution_count": 9
        }
      ]
    },
    {
      "cell_type": "code",
      "source": [
        "X_train = []\n",
        "y_train = []\n",
        "\n",
        "for i in range (60,-1): #60 : timestep // 1149 : length of the data\n",
        "    X_train.append(trainData[i-60:i,0])\n",
        "    y_train.append(trainData[i,0])\n",
        "\n",
        "X_train,y_train = np.array(X_train),np.array(y_train)"
      ],
      "metadata": {
        "id": "3JohD96koSWW"
      },
      "execution_count": null,
      "outputs": []
    },
    {
      "cell_type": "markdown",
      "source": [],
      "metadata": {
        "id": "pNXJBYThpC3K"
      }
    },
    {
      "cell_type": "code",
      "source": [
        "X_train = np.reshape(X_train,(X_train.shape[0],X_train.shape[0],0)) #adding the batch_size axis\n",
        "X_train.shape"
      ],
      "metadata": {
        "colab": {
          "base_uri": "https://localhost:8080/"
        },
        "id": "x0-MSTmmofWV",
        "outputId": "a0660b31-450e-4744-fca1-50a6839144a0"
      },
      "execution_count": null,
      "outputs": [
        {
          "output_type": "execute_result",
          "data": {
            "text/plain": [
              "(0, 0, 0)"
            ]
          },
          "metadata": {},
          "execution_count": 11
        }
      ]
    },
    {
      "cell_type": "code",
      "source": [
        "model = Sequential()\n",
        "\n",
        "model.add(LSTM(units=100, return_sequences = True, input_shape =(X_train.shape[1],1)))\n",
        "model.add(Dropout(0.2))\n",
        "\n",
        "model.add(LSTM(units=100, return_sequences = True))\n",
        "model.add(Dropout(0.2))\n",
        "\n",
        "model.add(LSTM(units=100, return_sequences = True))\n",
        "model.add(Dropout(0.2))\n",
        "\n",
        "model.add(LSTM(units=100, return_sequences = False))\n",
        "model.add(Dropout(0.2))\n",
        "\n",
        "model.add(Dense(units =1))\n",
        "model.compile(optimizer='adam',loss=\"mean_squared_error\")"
      ],
      "metadata": {
        "id": "bBpJ4bXSpJ3i",
        "colab": {
          "base_uri": "https://localhost:8080/"
        },
        "outputId": "cd43b7aa-86e3-40e7-f4b6-43d2af3d507f"
      },
      "execution_count": null,
      "outputs": [
        {
          "output_type": "stream",
          "name": "stderr",
          "text": [
            "/usr/local/lib/python3.10/dist-packages/keras/src/layers/rnn/rnn.py:204: UserWarning: Do not pass an `input_shape`/`input_dim` argument to a layer. When using Sequential models, prefer using an `Input(shape)` object as the first layer in the model instead.\n",
            "  super().__init__(**kwargs)\n"
          ]
        }
      ]
    },
    {
      "cell_type": "code",
      "source": [
        "# ... previous code ...\n",
        "\n",
        "X_train = []\n",
        "y_train = []\n",
        "\n",
        "for i in range(60, len(trainData)):  # Correct the loop range\n",
        "    X_train.append(trainData[i - 60:i, 0])\n",
        "    y_train.append(trainData[i, 0])\n",
        "\n",
        "X_train, y_train = np.array(X_train), np.array(y_train)\n",
        "\n",
        "if X_train.size == 0 or y_train.size == 0:\n",
        "    print(\"Error: Training data is empty. Check the loop or input data.\")\n",
        "else:\n",
        "    X_train = np.reshape(X_train, (X_train.shape[0], X_train.shape[1], 1))  # Reshape with valid data\n",
        "    hist = model.fit(X_train, y_train, epochs=10, batch_size=20, verbose=2)"
      ],
      "metadata": {
        "colab": {
          "base_uri": "https://localhost:8080/"
        },
        "id": "AAvcLKSnpQ2I",
        "outputId": "f4800fbf-5e43-4ad1-ffce-115201db10b1"
      },
      "execution_count": null,
      "outputs": [
        {
          "output_type": "stream",
          "name": "stdout",
          "text": [
            "Epoch 1/10\n",
            "16/16 - 8s - 525ms/step - loss: 0.0869\n",
            "Epoch 2/10\n",
            "16/16 - 2s - 154ms/step - loss: 0.0155\n",
            "Epoch 3/10\n",
            "16/16 - 3s - 212ms/step - loss: 0.0166\n",
            "Epoch 4/10\n",
            "16/16 - 4s - 265ms/step - loss: 0.0140\n",
            "Epoch 5/10\n",
            "16/16 - 3s - 179ms/step - loss: 0.0140\n",
            "Epoch 6/10\n",
            "16/16 - 2s - 149ms/step - loss: 0.0114\n",
            "Epoch 7/10\n",
            "16/16 - 3s - 172ms/step - loss: 0.0147\n",
            "Epoch 8/10\n",
            "16/16 - 5s - 286ms/step - loss: 0.0120\n",
            "Epoch 9/10\n",
            "16/16 - 2s - 139ms/step - loss: 0.0107\n",
            "Epoch 10/10\n",
            "16/16 - 3s - 160ms/step - loss: 0.0128\n"
          ]
        }
      ]
    },
    {
      "cell_type": "code",
      "source": [
        "plt.plot(hist.history['loss'])\n",
        "plt.title('Training model loss')\n",
        "plt.ylabel('loss')\n",
        "plt.xlabel('epoch')\n",
        "plt.legend(['train'], loc='upper left')\n",
        "plt.show()"
      ],
      "metadata": {
        "colab": {
          "base_uri": "https://localhost:8080/",
          "height": 472
        },
        "id": "FWr2H-k5qG8e",
        "outputId": "bb7d26af-e2e7-4784-d39a-2dbe84aa35c0"
      },
      "execution_count": null,
      "outputs": [
        {
          "output_type": "display_data",
          "data": {
            "text/plain": [
              "<Figure size 640x480 with 1 Axes>"
            ],
            "image/png": "[encoded data removed]"
          },
          "metadata": {}
        }
      ]
    },
    {
      "cell_type": "code",
      "source": [
        "testData = pd.read_csv('stock_data.csv')\n",
        "testData[\"Stock_1\"]=pd.to_numeric(testData.Stock_1,errors='coerce')\n",
        "testData = testData.dropna()\n",
        "testData = testData.iloc[:,4:5]\n",
        "y_test = testData.iloc[60:,0:].values\n",
        "#input array for the model\n",
        "inputClosing = testData.iloc[:,0:].values\n",
        "inputClosing_scaled = sc.transform(inputClosing)\n",
        "inputClosing_scaled.shape\n",
        "X_test = []\n",
        "length = len(testData)\n",
        "timestep = 60\n",
        "for i in range(timestep,length):\n",
        "    X_test.append(inputClosing_scaled[i-timestep:i,0])\n",
        "X_test = np.array(X_test)\n",
        "X_test = np.reshape(X_test,(X_test.shape[0],X_test.shape[1],1))\n",
        "X_test.shape"
      ],
      "metadata": {
        "colab": {
          "base_uri": "https://localhost:8080/"
        },
        "id": "aDzpgjQdqLbY",
        "outputId": "054f3ca8-2abd-418d-9b63-325eecd85e53"
      },
      "execution_count": null,
      "outputs": [
        {
          "output_type": "execute_result",
          "data": {
            "text/plain": [
              "(305, 60, 1)"
            ]
          },
          "metadata": {},
          "execution_count": 15
        }
      ]
    },
    {
      "cell_type": "code",
      "source": [
        "y_pred = model.predict(X_test)\n",
        "y_pred"
      ],
      "metadata": {
        "colab": {
          "base_uri": "https://localhost:8080/"
        },
        "id": "UBB72ZpcqXrh",
        "outputId": "cf3bb730-23e0-4c40-8816-7a7c796b97cb"
      },
      "execution_count": null,
      "outputs": [
        {
          "output_type": "stream",
          "name": "stdout",
          "text": [
            "\u001b[1m10/10\u001b[0m \u001b[32m━━━━━━━━━━━━━━━━━━━━\u001b[0m\u001b[37m\u001b[0m \u001b[1m2s\u001b[0m 111ms/step\n"
          ]
        },
        {
          "output_type": "execute_result",
          "data": {
            "text/plain": [
              "array([[0.42337424],\n",
              "       [0.4223756 ],\n",
              "       [0.42208737],\n",
              "       [0.42282233],\n",
              "       [0.42505762],\n",
              "       [0.42886624],\n",
              "       [0.43400154],\n",
              "       [0.44029856],\n",
              "       [0.44774383],\n",
              "       [0.45644495],\n",
              "       [0.46656442],\n",
              "       [0.478202  ],\n",
              "       [0.49159634],\n",
              "       [0.5069042 ],\n",
              "       [0.52409136],\n",
              "       [0.5429189 ],\n",
              "       [0.56297517],\n",
              "       [0.5834536 ],\n",
              "       [0.60362613],\n",
              "       [0.62282187],\n",
              "       [0.6408149 ],\n",
              "       [0.65755206],\n",
              "       [0.673106  ],\n",
              "       [0.68757135],\n",
              "       [0.7008585 ],\n",
              "       [0.7130361 ],\n",
              "       [0.7245625 ],\n",
              "       [0.73586994],\n",
              "       [0.7471717 ],\n",
              "       [0.7583812 ],\n",
              "       [0.76883537],\n",
              "       [0.7777807 ],\n",
              "       [0.78465116],\n",
              "       [0.7893605 ],\n",
              "       [0.7922676 ],\n",
              "       [0.793778  ],\n",
              "       [0.7942034 ],\n",
              "       [0.7940445 ],\n",
              "       [0.79371727],\n",
              "       [0.7934091 ],\n",
              "       [0.79348916],\n",
              "       [0.7944827 ],\n",
              "       [0.7967835 ],\n",
              "       [0.800438  ],\n",
              "       [0.8048079 ],\n",
              "       [0.80926967],\n",
              "       [0.81308824],\n",
              "       [0.8152339 ],\n",
              "       [0.81524026],\n",
              "       [0.81319124],\n",
              "       [0.8091613 ],\n",
              "       [0.80310845],\n",
              "       [0.79527736],\n",
              "       [0.7858779 ],\n",
              "       [0.77547044],\n",
              "       [0.7648435 ],\n",
              "       [0.7548548 ],\n",
              "       [0.7463153 ],\n",
              "       [0.7398323 ],\n",
              "       [0.735948  ],\n",
              "       [0.73484474],\n",
              "       [0.736426  ],\n",
              "       [0.740562  ],\n",
              "       [0.74709606],\n",
              "       [0.7554676 ],\n",
              "       [0.76490295],\n",
              "       [0.7746504 ],\n",
              "       [0.7839779 ],\n",
              "       [0.79271656],\n",
              "       [0.8007905 ],\n",
              "       [0.8081394 ],\n",
              "       [0.81489736],\n",
              "       [0.8212737 ],\n",
              "       [0.82741904],\n",
              "       [0.8332192 ],\n",
              "       [0.838555  ],\n",
              "       [0.84354794],\n",
              "       [0.84846056],\n",
              "       [0.85330755],\n",
              "       [0.85842645],\n",
              "       [0.8637409 ],\n",
              "       [0.86869633],\n",
              "       [0.87290347],\n",
              "       [0.8761616 ],\n",
              "       [0.8782806 ],\n",
              "       [0.87890184],\n",
              "       [0.8783131 ],\n",
              "       [0.8770124 ],\n",
              "       [0.8756111 ],\n",
              "       [0.8746994 ],\n",
              "       [0.87480843],\n",
              "       [0.8763679 ],\n",
              "       [0.87976724],\n",
              "       [0.8850665 ],\n",
              "       [0.8920107 ],\n",
              "       [0.8997592 ],\n",
              "       [0.9072105 ],\n",
              "       [0.91346467],\n",
              "       [0.9181759 ],\n",
              "       [0.92142797],\n",
              "       [0.92339015],\n",
              "       [0.9240041 ],\n",
              "       [0.9225826 ],\n",
              "       [0.91879666],\n",
              "       [0.9124834 ],\n",
              "       [0.9036224 ],\n",
              "       [0.8924903 ],\n",
              "       [0.8792444 ],\n",
              "       [0.8640651 ],\n",
              "       [0.8477567 ],\n",
              "       [0.831373  ],\n",
              "       [0.81598246],\n",
              "       [0.8020936 ],\n",
              "       [0.7904599 ],\n",
              "       [0.78131384],\n",
              "       [0.7750712 ],\n",
              "       [0.77149254],\n",
              "       [0.770413  ],\n",
              "       [0.77196014],\n",
              "       [0.77599126],\n",
              "       [0.78229797],\n",
              "       [0.7906556 ],\n",
              "       [0.80055   ],\n",
              "       [0.8110424 ],\n",
              "       [0.82090515],\n",
              "       [0.8291904 ],\n",
              "       [0.83527297],\n",
              "       [0.8387499 ],\n",
              "       [0.8397059 ],\n",
              "       [0.8386272 ],\n",
              "       [0.8359348 ],\n",
              "       [0.83177346],\n",
              "       [0.82639366],\n",
              "       [0.8199739 ],\n",
              "       [0.81274384],\n",
              "       [0.80530924],\n",
              "       [0.7984141 ],\n",
              "       [0.7925076 ],\n",
              "       [0.78787243],\n",
              "       [0.78438777],\n",
              "       [0.7821971 ],\n",
              "       [0.7812662 ],\n",
              "       [0.7815051 ],\n",
              "       [0.7828604 ],\n",
              "       [0.78526783],\n",
              "       [0.7881678 ],\n",
              "       [0.7906028 ],\n",
              "       [0.79166734],\n",
              "       [0.79078233],\n",
              "       [0.78769374],\n",
              "       [0.78224266],\n",
              "       [0.7742181 ],\n",
              "       [0.76354164],\n",
              "       [0.75029945],\n",
              "       [0.7349108 ],\n",
              "       [0.7179441 ],\n",
              "       [0.70017165],\n",
              "       [0.6822791 ],\n",
              "       [0.66483164],\n",
              "       [0.64823914],\n",
              "       [0.632664  ],\n",
              "       [0.6183129 ],\n",
              "       [0.6052247 ],\n",
              "       [0.59325725],\n",
              "       [0.58229566],\n",
              "       [0.57200116],\n",
              "       [0.5620139 ],\n",
              "       [0.5519765 ],\n",
              "       [0.54158586],\n",
              "       [0.5306963 ],\n",
              "       [0.5192248 ],\n",
              "       [0.5071722 ],\n",
              "       [0.49492198],\n",
              "       [0.48293835],\n",
              "       [0.4719559 ],\n",
              "       [0.46265662],\n",
              "       [0.45575684],\n",
              "       [0.45154333],\n",
              "       [0.45006126],\n",
              "       [0.4511783 ],\n",
              "       [0.4544594 ],\n",
              "       [0.45921457],\n",
              "       [0.46446064],\n",
              "       [0.4695468 ],\n",
              "       [0.47388583],\n",
              "       [0.4773065 ],\n",
              "       [0.47979087],\n",
              "       [0.48125714],\n",
              "       [0.4817638 ],\n",
              "       [0.4813524 ],\n",
              "       [0.480202  ],\n",
              "       [0.47847217],\n",
              "       [0.4763935 ],\n",
              "       [0.4740478 ],\n",
              "       [0.47160175],\n",
              "       [0.4693163 ],\n",
              "       [0.46728757],\n",
              "       [0.46600628],\n",
              "       [0.4660479 ],\n",
              "       [0.46829453],\n",
              "       [0.47371292],\n",
              "       [0.48293072],\n",
              "       [0.49597773],\n",
              "       [0.51234037],\n",
              "       [0.53080213],\n",
              "       [0.5498402 ],\n",
              "       [0.5680486 ],\n",
              "       [0.5846219 ],\n",
              "       [0.59897864],\n",
              "       [0.6109731 ],\n",
              "       [0.6204341 ],\n",
              "       [0.6271785 ],\n",
              "       [0.63105   ],\n",
              "       [0.6321284 ],\n",
              "       [0.63075244],\n",
              "       [0.6275932 ],\n",
              "       [0.62351495],\n",
              "       [0.61938024],\n",
              "       [0.61594045],\n",
              "       [0.6140437 ],\n",
              "       [0.6141994 ],\n",
              "       [0.6167328 ],\n",
              "       [0.6213365 ],\n",
              "       [0.62749577],\n",
              "       [0.6345177 ],\n",
              "       [0.6417332 ],\n",
              "       [0.64877546],\n",
              "       [0.65547657],\n",
              "       [0.6619359 ],\n",
              "       [0.66860676],\n",
              "       [0.6759967 ],\n",
              "       [0.6846853 ],\n",
              "       [0.6949459 ],\n",
              "       [0.7067658 ],\n",
              "       [0.7197427 ],\n",
              "       [0.73354185],\n",
              "       [0.7478651 ],\n",
              "       [0.7622805 ],\n",
              "       [0.776339  ],\n",
              "       [0.7898589 ],\n",
              "       [0.80271417],\n",
              "       [0.81456214],\n",
              "       [0.8250861 ],\n",
              "       [0.83357024],\n",
              "       [0.8396086 ],\n",
              "       [0.84291893],\n",
              "       [0.84337217],\n",
              "       [0.8412341 ],\n",
              "       [0.83665055],\n",
              "       [0.8302999 ],\n",
              "       [0.82284003],\n",
              "       [0.81477594],\n",
              "       [0.80672807],\n",
              "       [0.7994081 ],\n",
              "       [0.79391557],\n",
              "       [0.7911138 ],\n",
              "       [0.7914551 ],\n",
              "       [0.79461473],\n",
              "       [0.79989463],\n",
              "       [0.8062844 ],\n",
              "       [0.8127331 ],\n",
              "       [0.81799215],\n",
              "       [0.821445  ],\n",
              "       [0.8225624 ],\n",
              "       [0.8205041 ],\n",
              "       [0.8144576 ],\n",
              "       [0.8039231 ],\n",
              "       [0.78866357],\n",
              "       [0.769156  ],\n",
              "       [0.7462493 ],\n",
              "       [0.7210604 ],\n",
              "       [0.694891  ],\n",
              "       [0.6690651 ],\n",
              "       [0.64493334],\n",
              "       [0.62338394],\n",
              "       [0.6048418 ],\n",
              "       [0.5895721 ],\n",
              "       [0.5771489 ],\n",
              "       [0.5666854 ],\n",
              "       [0.5573909 ],\n",
              "       [0.5486177 ],\n",
              "       [0.5401    ],\n",
              "       [0.53200215],\n",
              "       [0.52437663],\n",
              "       [0.5173784 ],\n",
              "       [0.5113891 ],\n",
              "       [0.5068093 ],\n",
              "       [0.50376034],\n",
              "       [0.502346  ],\n",
              "       [0.50270194],\n",
              "       [0.5049865 ],\n",
              "       [0.50936127],\n",
              "       [0.5152734 ],\n",
              "       [0.52210176],\n",
              "       [0.5296109 ],\n",
              "       [0.53775287],\n",
              "       [0.54655683],\n",
              "       [0.5561378 ],\n",
              "       [0.5665859 ],\n",
              "       [0.57800263],\n",
              "       [0.59037584],\n",
              "       [0.6033774 ],\n",
              "       [0.6163228 ],\n",
              "       [0.6283112 ],\n",
              "       [0.63822967]], dtype=float32)"
            ]
          },
          "metadata": {},
          "execution_count": 16
        }
      ]
    },
    {
      "cell_type": "code",
      "source": [
        "predicted_price = sc.inverse_transform(y_pred)"
      ],
      "metadata": {
        "id": "gFI_zBXGqb7z"
      },
      "execution_count": null,
      "outputs": []
    },
    {
      "cell_type": "code",
      "source": [
        "plt.plot(y_test, color = 'red', label = 'Actual Stock Price')\n",
        "plt.plot(predicted_price, color = 'green', label = 'Predicted Stock Price')\n",
        "plt.title('Stock Prediction')\n",
        "plt.xlabel('Time')\n",
        "plt.ylabel('Stock Price')\n",
        "plt.legend()\n",
        "plt.show()"
      ],
      "metadata": {
        "colab": {
          "base_uri": "https://localhost:8080/",
          "height": 472
        },
        "id": "0Ekg1EacqfSe",
        "outputId": "92c13d7b-9227-46a1-ee29-70c984c9c996"
      },
      "execution_count": null,
      "outputs": [
        {
          "output_type": "display_data",
          "data": {
            "text/plain": [
              "<Figure size 640x480 with 1 Axes>"
            ],
            "image/png": "[encoded data removed]"
          },
          "metadata": {}
        }
      ]
    },
    {
      "source": [],
      "cell_type": "code",
      "metadata": {
        "id": "XrePqK2qyho5"
      },
      "execution_count": null,
      "outputs": []
    }
  ]
}